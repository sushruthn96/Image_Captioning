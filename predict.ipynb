{
 "cells": [
  {
   "cell_type": "code",
   "execution_count": 1,
   "metadata": {},
   "outputs": [
    {
     "name": "stdout",
     "output_type": "stream",
     "text": [
      "Importing Jupyter notebook from training_script_v1.ipynb\n",
      "Importing Jupyter notebook from data_loader.ipynb\n",
      "Importing Jupyter notebook from weight_initialization.ipynb\n",
      "Importing Jupyter notebook from models_custom.ipynb\n",
      "(9956, 300)\n",
      "wii controller ' , <<unknown>> is a man in a suit and tie . ' , ' a man is\n"
     ]
    },
    {
     "data": {
      "text/plain": [
       "<matplotlib.image.AxesImage at 0x7ff6a0b42be0>"
      ]
     },
     "execution_count": 1,
     "metadata": {},
     "output_type": "execute_result"
    }
   ],
   "source": [
    "import torch\n",
    "import nbimporter\n",
    "import matplotlib.pyplot as plt\n",
    "import numpy as np \n",
    "import argparse\n",
    "import pickle \n",
    "import os\n",
    "from torchvision import transforms \n",
    "#from build_vocab import Vocabulary\n",
    "from vocabbuild import Vocabulary\n",
    "from training_script_v1 import LSTM_custom\n",
    "#from asfiya_local.training_script import LSTM_custom\n",
    "from models_custom import CNN\n",
    "#from model import EncoderCNN, DecoderRNN\n",
    "from PIL import Image\n",
    "\n",
    "\n",
    "# Device configuration\n",
    "device = torch.device('cuda' if torch.cuda.is_available() else 'cpu')\n",
    "\n",
    "def load_image(image_path, transform=None):\n",
    "    image = Image.open(image_path)\n",
    "    image = image.resize([229, 229], Image.LANCZOS)\n",
    "    \n",
    "    if transform is not None:\n",
    "        image = transform(image).unsqueeze(0)\n",
    "    \n",
    "    return image\n",
    "\n",
    "transform = transforms.Compose([\n",
    "    transforms.ToTensor(), \n",
    "    transforms.Normalize((0.485, 0.456, 0.406), \n",
    "                         (0.229, 0.224, 0.225))])\n",
    "path = '/datasets/COCO-2015/val2014/COCO_val2014_000000111244.jpg'\n",
    "image = load_image(path, transform)\n",
    "vocab_path = 'vocab.pkl'\n",
    "# Load vocabulary wrapper\n",
    "with open(vocab_path, 'rb') as f:\n",
    "    vocab = pickle.load(f)\n",
    "\n",
    "    # Build models\n",
    "#encoder = CNN(out_classes = 300).eval()\n",
    "encoder = CNN(out_classes = 256).eval()  # eval mode (batchnorm uses moving mean/variance)\n",
    "hidden_size = 512\n",
    "import weight_initialization\n",
    "weight_matrix = weight_initialization.get_weight_matrix()\n",
    "print(weight_matrix.shape)\n",
    "#decoder = LSTM_custom(weights_matrix, 512, len(vocab),num_layers = 1)\n",
    "decoder = LSTM_custom(weights_matrix = weight_matrix, hidden_size = 512, vocab_size = weight_matrix.shape[0], num_layers = 1)\n",
    "encoder = encoder.to(device)\n",
    "decoder = decoder.to(device)\n",
    "\n",
    "    # Load the trained model parameters\n",
    "#encoder_path = \n",
    "decoder_path = 'asfiya_local/captioning2/decoder-1-500.ckpt'\n",
    "#encoder.load_state_dict(torch.load(encoder_path))\n",
    "decoder.load_state_dict(torch.load(decoder_path))\n",
    "\n",
    "    # Prepare an image\n",
    "\n",
    "image_tensor = image.to(device)\n",
    "    \n",
    "    # Generate an caption from the image\n",
    "feature = encoder(image_tensor)\n",
    "sampled_ids = decoder.sample(feature)\n",
    "sampled_ids = sampled_ids[0].cpu().numpy()          # (1, max_seq_length) -> (max_seq_length)\n",
    "    \n",
    "# Convert word_ids to words\n",
    "sampled_caption = []\n",
    "for word_id in sampled_ids:\n",
    "    word = vocab.idx2word[word_id]\n",
    "    sampled_caption.append(word)\n",
    "    if word == '<end>':\n",
    "        break\n",
    "sentence = ' '.join(sampled_caption)\n",
    "\n",
    "# Print out the image and the generated caption\n",
    "print (sentence)\n",
    "image = Image.open(path)\n",
    "plt.imshow(np.asarray(image))\n",
    "    \n",
    "# if __name__ == '__main__':\n",
    "#     parser = argparse.ArgumentParser()\n",
    "#     parser.add_argument('--image', type=str, required=True, help='input image for generating caption')\n",
    "#     parser.add_argument('--encoder_path', type=str, default='models/encoder-2-1000.ckpt', help='path for trained encoder')\n",
    "#     parser.add_argument('--decoder_path', type=str, default='models/decoder-2-1000.ckpt', help='path for trained decoder')\n",
    "#     parser.add_argument('--vocab_path', type=str, default='data/vocab.pkl', help='path for vocabulary wrapper')\n",
    "    \n",
    "#     # Model parameters (should be same as paramters in train.py)\n",
    "#     parser.add_argument('--embed_size', type=int , default=256, help='dimension of word embedding vectors')\n",
    "#     parser.add_argument('--hidden_size', type=int , default=512, help='dimension of lstm hidden states')\n",
    "#     parser.add_argument('--num_layers', type=int , default=1, help='number of layers in lstm')\n",
    "#     args = parser.parse_args()\n",
    "#     main(args)"
   ]
  },
  {
   "cell_type": "code",
   "execution_count": 5,
   "metadata": {},
   "outputs": [
    {
     "ename": "FileNotFoundError",
     "evalue": "[Errno 2] No such file or directory: '/Image_Captioning/vocab.pkl'",
     "output_type": "error",
     "traceback": [
      "\u001b[0;31m\u001b[0m",
      "\u001b[0;31mFileNotFoundError\u001b[0mTraceback (most recent call last)",
      "\u001b[0;32m<ipython-input-5-1fd16b5932e9>\u001b[0m in \u001b[0;36m<module>\u001b[0;34m()\u001b[0m\n\u001b[0;32m----> 1\u001b[0;31m \u001b[0;32mwith\u001b[0m \u001b[0mopen\u001b[0m\u001b[0;34m(\u001b[0m\u001b[0;34m\"/Image_Captioning/vocab.pkl\"\u001b[0m\u001b[0;34m,\u001b[0m \u001b[0;34m'rb'\u001b[0m\u001b[0;34m)\u001b[0m \u001b[0;32mas\u001b[0m \u001b[0mfi\u001b[0m\u001b[0;34m:\u001b[0m\u001b[0;34m\u001b[0m\u001b[0;34m\u001b[0m\u001b[0m\n\u001b[0m\u001b[1;32m      2\u001b[0m     \u001b[0mvocabulary\u001b[0m \u001b[0;34m=\u001b[0m \u001b[0mpickle\u001b[0m\u001b[0;34m.\u001b[0m\u001b[0mload\u001b[0m\u001b[0;34m(\u001b[0m\u001b[0mfi\u001b[0m\u001b[0;34m)\u001b[0m\u001b[0;34m\u001b[0m\u001b[0;34m\u001b[0m\u001b[0m\n",
      "\u001b[0;31mFileNotFoundError\u001b[0m: [Errno 2] No such file or directory: '/Image_Captioning/vocab.pkl'"
     ]
    }
   ],
   "source": [
    "with open(\"/Image_Captioning/vocab.pkl\", 'rb') as fi:\n",
    "    vocabulary = pickle.load(fi)"
   ]
  },
  {
   "cell_type": "code",
   "execution_count": 7,
   "metadata": {},
   "outputs": [
    {
     "name": "stdout",
     "output_type": "stream",
     "text": [
      "/datasets/home/home-03/91/891/snagesh/Image_Captioning\n"
     ]
    }
   ],
   "source": [
    "import os\n",
    "print(os.getcwd())"
   ]
  },
  {
   "cell_type": "code",
   "execution_count": null,
   "metadata": {},
   "outputs": [],
   "source": []
  }
 ],
 "metadata": {
  "kernelspec": {
   "display_name": "Python 3",
   "language": "python",
   "name": "python3"
  },
  "language_info": {
   "codemirror_mode": {
    "name": "ipython",
    "version": 3
   },
   "file_extension": ".py",
   "mimetype": "text/x-python",
   "name": "python",
   "nbconvert_exporter": "python",
   "pygments_lexer": "ipython3",
   "version": "3.6.8"
  }
 },
 "nbformat": 4,
 "nbformat_minor": 2
}
