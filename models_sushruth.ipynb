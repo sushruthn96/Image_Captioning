{
 "cells": [
  {
   "cell_type": "code",
   "execution_count": 8,
   "metadata": {},
   "outputs": [],
   "source": [
    "import os\n",
    "import time\n",
    "import torch\n",
    "from torch import nn\n",
    "import torch.utils.data as td\n",
    "import torchvision as tv\n",
    "import bcolz\n",
    "import numpy as np\n",
    "import pickle\n",
    "\n",
    "def glo2vec():\n",
    "    words = []\n",
    "    idx = 0\n",
    "    word2idx = {}\n",
    "    vectors = bcolz.carray(np.zeros(1), rootdir='6B.300.dat', mode='w')\n",
    "\n",
    "    with open('glove.6B.300d.txt', 'rb') as f:\n",
    "        for l in f:\n",
    "            line = l.decode().split()\n",
    "            word = line[0]\n",
    "            words.append(word)\n",
    "            word2idx[word] = idx\n",
    "            idx += 1\n",
    "            vect = np.array(line[1:]).astype(np.float)\n",
    "            vectors.append(vect)\n",
    "\n",
    "    vectors = bcolz.carray(vectors[1:].reshape((400000, 300)), rootdir='6B.300.dat', mode='w')\n",
    "    vectors.flush()\n",
    "    pickle.dump(words, open('6B.300_words.pkl', 'wb'))\n",
    "    pickle.dump(word2idx, open('6B.300_idx.pkl', 'wb'))\n",
    "\n",
    "\n",
    "    "
   ]
  },
  {
   "cell_type": "code",
   "execution_count": null,
   "metadata": {},
   "outputs": [],
   "source": [
    "class CNN(nn.Module):\n",
    "    \n",
    "    def __init__(self,out_classes,fine_tuning = False):\n",
    "        super().__init__()\n",
    "        inception = tv.models.inception_v3(pretrained = True)\n",
    "        inception.aux_logits=False\n",
    "        for param in inception.parameters():\n",
    "            param.requires_grad = fine_tuning\n",
    "        self.net = inception\n",
    "        self.net.fc = nn.Linear(inception.fc.in_features,out_classes)\n",
    "    \n",
    "    def forward(self, x):\n",
    "        return self.net(x)"
   ]
  },
  {
   "cell_type": "code",
   "execution_count": 23,
   "metadata": {},
   "outputs": [],
   "source": [
    "def create_emb_layer(weights_matrix, non_trainable=False):\n",
    "    num_embeddings, embedding_dim = weights_matrix.size()\n",
    "    emb_layer = nn.Embedding(num_embeddings, embedding_dim)\n",
    "    emb_layer.load_state_dict({'weight': weights_matrix})\n",
    "    if non_trainable:\n",
    "        emb_layer.weight.requires_grad = False\n",
    "\n",
    "    return emb_layer, num_embeddings, embedding_dim"
   ]
  },
  {
   "cell_type": "code",
   "execution_count": 27,
   "metadata": {},
   "outputs": [],
   "source": [
    "# c = CNN(10)\n",
    "# print(c)\n",
    "\n",
    "class LSTM(nn.Module):\n",
    "    def __init():\n",
    "        super().__init__(weights_matrix,hidden_size,vocab_size,num_layers)\n",
    "        self.embedding, num_embeddings, embedding_dim = create_emb_layer(weights_matrix, True)\n",
    "        self.lstm = nn.LSTM(embedding_dim, hidden_size, num_layers, batch_first=True)\n",
    "        self.linear = nn.Linear(hidden_size, vocab_size)\n",
    "        self.max_seg_length = max_seq_length\n",
    "    \n",
    "    def forward(self, features, captions, lengths):\n",
    "        embeddings = self.embeddings(captions)\n",
    "        embeddings = torch.cat((features.unsqueeze(1), embeddings), 1)\n",
    "        packed = pack_padded_sequence(embeddings, lengths, batch_first=True) \n",
    "        hiddens, _ = self.lstm(packed)\n",
    "        outputs = self.linear(hiddens[0])\n",
    "        return outputs\n",
    "        \n",
    "        "
   ]
  },
  {
   "cell_type": "code",
   "execution_count": 26,
   "metadata": {},
   "outputs": [],
   "source": [
    "# inception = tv.models.inception_v3(pretrained = True)\n"
   ]
  },
  {
   "cell_type": "code",
   "execution_count": 25,
   "metadata": {
    "scrolled": true
   },
   "outputs": [],
   "source": [
    "# fine_tuning = False\n",
    "# print(inception)\n",
    "# for param in inception.parameters():\n",
    "#     param.requires_grad = fine_tuning"
   ]
  }
 ],
 "metadata": {
  "kernelspec": {
   "display_name": "Python 3",
   "language": "python",
   "name": "python3"
  },
  "language_info": {
   "codemirror_mode": {
    "name": "ipython",
    "version": 3
   },
   "file_extension": ".py",
   "mimetype": "text/x-python",
   "name": "python",
   "nbconvert_exporter": "python",
   "pygments_lexer": "ipython3",
   "version": "3.7.3"
  }
 },
 "nbformat": 4,
 "nbformat_minor": 2
}
